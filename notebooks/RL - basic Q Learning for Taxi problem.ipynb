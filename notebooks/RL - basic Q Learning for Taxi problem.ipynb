{
 "cells": [
  {
   "cell_type": "code",
   "execution_count": 83,
   "metadata": {},
   "outputs": [],
   "source": [
    "import gym\n",
    "import numpy as np\n",
    "import pandas as pd\n",
    "import seaborn as sns"
   ]
  },
  {
   "cell_type": "markdown",
   "metadata": {},
   "source": [
    "# Problem Statement\n",
    "\n",
    "In Reinforcement Learning(RL), an agent(or algorithm) learns by the method of trial and error.\n",
    "One of the hard parts of Reinforcement Learning is to model the environment and how agent interacts with it. Once we have a model for this, we can start generating data for learning as the agent interacts with the environment and starts gathering the rewards. The goal of learning is to maximize the rewards in the long term.\n",
    "\n",
    "OpenAI gym library is basically the UCI for Reinforcement learning problems.\n",
    "https://gym.openai.com/docs/\n",
    "\n",
    "It provides simulation models for a number of environments where we can apply RL.\n",
    "\n",
    "We will consider the taxi problem for this demo  \n",
    "https://gym.openai.com/envs/Taxi-v3/"
   ]
  },
  {
   "cell_type": "code",
   "execution_count": 95,
   "metadata": {},
   "outputs": [
    {
     "name": "stdout",
     "output_type": "stream",
     "text": [
      "+---------+\n",
      "|\u001b[35mR\u001b[0m: | :\u001b[43m \u001b[0m:\u001b[34;1mG\u001b[0m|\n",
      "| : | : : |\n",
      "| : : : : |\n",
      "| | : | : |\n",
      "|Y| : |B: |\n",
      "+---------+\n",
      "\n"
     ]
    }
   ],
   "source": [
    "env = gym.make('Taxi-v3')\n",
    "env.reset()\n",
    "env.render()"
   ]
  },
  {
   "cell_type": "markdown",
   "metadata": {},
   "source": [
    "* The above visual shows an area which has been divided into 5x5 grid\n",
    "* There is a self driving taxi (indicated by yellow mark when empty and green mark when passenger has occupied it).\n",
    "* The goal for self driving taxi is to pick up the passenger from one of the 4 locations and drop off to another location"
   ]
  },
  {
   "cell_type": "code",
   "execution_count": 96,
   "metadata": {},
   "outputs": [
    {
     "name": "stdout",
     "output_type": "stream",
     "text": [
      "\n",
      "    The Taxi Problem\n",
      "    from \"Hierarchical Reinforcement Learning with the MAXQ Value Function Decomposition\"\n",
      "    by Tom Dietterich\n",
      "\n",
      "    Description:\n",
      "    There are four designated locations in the grid world indicated by R(ed), G(reen), Y(ellow), and B(lue). When the episode starts, the taxi starts off at a random square and the passenger is at a random location. The taxi drives to the passenger's location, picks up the passenger, drives to the passenger's destination (another one of the four specified locations), and then drops off the passenger. Once the passenger is dropped off, the episode ends.\n",
      "\n",
      "    Observations: \n",
      "    There are 500 discrete states since there are 25 taxi positions, 5 possible locations of the passenger (including the case when the passenger is in the taxi), and 4 destination locations. \n",
      "    \n",
      "    Passenger locations:\n",
      "    - 0: R(ed)\n",
      "    - 1: G(reen)\n",
      "    - 2: Y(ellow)\n",
      "    - 3: B(lue)\n",
      "    - 4: in taxi\n",
      "    \n",
      "    Destinations:\n",
      "    - 0: R(ed)\n",
      "    - 1: G(reen)\n",
      "    - 2: Y(ellow)\n",
      "    - 3: B(lue)\n",
      "        \n",
      "    Actions:\n",
      "    There are 6 discrete deterministic actions:\n",
      "    - 0: move south\n",
      "    - 1: move north\n",
      "    - 2: move east \n",
      "    - 3: move west \n",
      "    - 4: pickup passenger\n",
      "    - 5: dropoff passenger\n",
      "    \n",
      "    Rewards: \n",
      "    There is a reward of -1 for each action and an additional reward of +20 for delivering the passenger. There is a reward of -10 for executing actions \"pickup\" and \"dropoff\" illegally.\n",
      "    \n",
      "\n",
      "    Rendering:\n",
      "    - blue: passenger\n",
      "    - magenta: destination\n",
      "    - yellow: empty taxi\n",
      "    - green: full taxi\n",
      "    - other letters (R, G, Y and B): locations for passengers and destinations\n",
      "    \n",
      "\n",
      "    state space is represented by:\n",
      "        (taxi_row, taxi_col, passenger_location, destination)\n",
      "    \n"
     ]
    }
   ],
   "source": [
    "from gym.envs.toy_text.taxi import TaxiEnv\n",
    "print(TaxiEnv.__doc__)"
   ]
  },
  {
   "cell_type": "markdown",
   "metadata": {},
   "source": [
    "# How do we solve this problem using Reinforcement Learning?"
   ]
  },
  {
   "cell_type": "markdown",
   "metadata": {},
   "source": [
    "Lets set the terminology right  \n",
    "\n",
    "Environment: 5x5 space in which the taxi ferries the passenger from pickup to drop location (universe in which the agent performs action and learns)  \n",
    "Agent: Taxi (learner)  \n",
    "Action: Taxi moves 1 grid east/west/north/south or picks/drops passenger  \n",
    "State: One of the 500 possible states of the environment with a specific position of taxi and passenger  \n",
    "Reward: -1 for each action, +20 for correct drop off, -10 for incorrect drop-off \n",
    "\n",
    "RL - Solve the problem of maximizing the reward in the long term"
   ]
  },
  {
   "cell_type": "markdown",
   "metadata": {},
   "source": [
    "Lets use the Q-learning algorithm to solve this problem"
   ]
  },
  {
   "cell_type": "code",
   "execution_count": 97,
   "metadata": {},
   "outputs": [
    {
     "name": "stdout",
     "output_type": "stream",
     "text": [
      "Discrete(500)\n",
      "Discrete(6)\n"
     ]
    }
   ],
   "source": [
    "# There are 500 possible states and 6 possible actions\n",
    "print(env.env.observation_space)\n",
    "print(env.action_space)"
   ]
  },
  {
   "cell_type": "markdown",
   "metadata": {},
   "source": [
    "## Lets drive step by step to better understand the environment"
   ]
  },
  {
   "cell_type": "code",
   "execution_count": 98,
   "metadata": {},
   "outputs": [
    {
     "name": "stdout",
     "output_type": "stream",
     "text": [
      "+---------+\n",
      "|\u001b[35mR\u001b[0m: | : :G|\n",
      "| : | : : |\n",
      "| : : : : |\n",
      "| | : | : |\n",
      "|Y| : |\u001b[34;1mB\u001b[0m:\u001b[43m \u001b[0m|\n",
      "+---------+\n",
      "\n"
     ]
    }
   ],
   "source": [
    "# B(Blue) is the passenger location\n",
    "# R(magenta) is the destination\n",
    "# Taxi is indicated by yellow\n",
    "env.env.s = 492\n",
    "env.render()"
   ]
  },
  {
   "cell_type": "code",
   "execution_count": 99,
   "metadata": {},
   "outputs": [
    {
     "name": "stdout",
     "output_type": "stream",
     "text": [
      "+---------+\n",
      "|\u001b[35mR\u001b[0m: | : :G|\n",
      "| : | : : |\n",
      "| : : : : |\n",
      "| | : | : |\n",
      "|Y| : |\u001b[34;1m\u001b[43mB\u001b[0m\u001b[0m: |\n",
      "+---------+\n",
      "  (West)\n"
     ]
    }
   ],
   "source": [
    "#Move West\n",
    "env.step(3)\n",
    "env.render()"
   ]
  },
  {
   "cell_type": "code",
   "execution_count": 100,
   "metadata": {},
   "outputs": [
    {
     "name": "stdout",
     "output_type": "stream",
     "text": [
      "+---------+\n",
      "|\u001b[35mR\u001b[0m: | : :G|\n",
      "| : | : : |\n",
      "| : : : : |\n",
      "| | : | : |\n",
      "|Y| : |\u001b[42mB\u001b[0m: |\n",
      "+---------+\n",
      "  (Pickup)\n"
     ]
    }
   ],
   "source": [
    "#pick up the passenger\n",
    "env.step(4)\n",
    "env.render()"
   ]
  },
  {
   "cell_type": "code",
   "execution_count": 101,
   "metadata": {},
   "outputs": [],
   "source": [
    "#start towards destination"
   ]
  },
  {
   "cell_type": "code",
   "execution_count": 102,
   "metadata": {},
   "outputs": [
    {
     "name": "stdout",
     "output_type": "stream",
     "text": [
      "+---------+\n",
      "|\u001b[35mR\u001b[0m: | : :G|\n",
      "| : | : : |\n",
      "| : : : : |\n",
      "| | : |\u001b[42m_\u001b[0m: |\n",
      "|Y| : |B: |\n",
      "+---------+\n",
      "  (North)\n"
     ]
    }
   ],
   "source": [
    "env.step(1)\n",
    "env.render()"
   ]
  },
  {
   "cell_type": "code",
   "execution_count": 103,
   "metadata": {},
   "outputs": [
    {
     "name": "stdout",
     "output_type": "stream",
     "text": [
      "+---------+\n",
      "|\u001b[35m\u001b[42mR\u001b[0m\u001b[0m: | : :G|\n",
      "| : | : : |\n",
      "| : : : : |\n",
      "| | : | : |\n",
      "|Y| : |B: |\n",
      "+---------+\n",
      "  (North)\n"
     ]
    }
   ],
   "source": [
    "# Fast forward to destination\n",
    "\n",
    "env.step(1)\n",
    "env.step(3)\n",
    "env.step(3)\n",
    "env.step(3)\n",
    "env.step(1)\n",
    "env.step(1)\n",
    "env.render()"
   ]
  },
  {
   "cell_type": "code",
   "execution_count": 104,
   "metadata": {},
   "outputs": [
    {
     "name": "stdout",
     "output_type": "stream",
     "text": [
      "+---------+\n",
      "|\u001b[35m\u001b[34;1m\u001b[43mR\u001b[0m\u001b[0m\u001b[0m: | : :G|\n",
      "| : | : : |\n",
      "| : : : : |\n",
      "| | : | : |\n",
      "|Y| : |B: |\n",
      "+---------+\n",
      "  (Dropoff)\n"
     ]
    }
   ],
   "source": [
    "# Drop off (Taxi becomes yellow)\n",
    "env.step(5)\n",
    "env.render()"
   ]
  },
  {
   "cell_type": "markdown",
   "metadata": {},
   "source": [
    "## Lets try to solve the problem by brute force"
   ]
  },
  {
   "cell_type": "code",
   "execution_count": 105,
   "metadata": {},
   "outputs": [
    {
     "name": "stdout",
     "output_type": "stream",
     "text": [
      "13136 -51212\n"
     ]
    }
   ],
   "source": [
    "reward = 0\n",
    "total_reward = 0\n",
    "steps = 0\n",
    "env.reset()\n",
    "while reward!=20:\n",
    "    action = env.env.action_space.sample() # Determine a random action\n",
    "    _, reward, _, _ = env.step(action) # Perform the action\n",
    "    total_reward += reward # Accumulate reward\n",
    "    steps+=1 # Count the steps\n",
    "print(steps, total_reward)"
   ]
  },
  {
   "cell_type": "markdown",
   "metadata": {},
   "source": [
    "# Solve the problem using q-learning"
   ]
  },
  {
   "cell_type": "markdown",
   "metadata": {},
   "source": [
    "Q-learning is similar to Dynamic Programming. \n",
    "(Both are based on Bellman's equation. In Dynamic programming, the idea is to simply store the results of subproblems, so that we do not have to re-compute them when needed later. E.g. Finding factorial for a number)\n",
    "\n",
    "In Q-learning, we learn the Q-table, which is a matrix of expected rewards for state transition based on a certain action.\n",
    "Each row represents state of the model  \n",
    "Each columns represents an action  \n",
    "Each cell represents expected reward when a certain action is performed  \n",
    "\n",
    "![Image](https://wikimedia.org/api/rest_v1/media/math/render/svg/678cb558a9d59c33ef4810c9618baf34a9577686)"
   ]
  },
  {
   "cell_type": "code",
   "execution_count": 106,
   "metadata": {},
   "outputs": [
    {
     "name": "stdout",
     "output_type": "stream",
     "text": [
      "(500, 6)\n"
     ]
    },
    {
     "data": {
      "text/html": [
       "<div>\n",
       "<style scoped>\n",
       "    .dataframe tbody tr th:only-of-type {\n",
       "        vertical-align: middle;\n",
       "    }\n",
       "\n",
       "    .dataframe tbody tr th {\n",
       "        vertical-align: top;\n",
       "    }\n",
       "\n",
       "    .dataframe thead th {\n",
       "        text-align: right;\n",
       "    }\n",
       "</style>\n",
       "<table border=\"1\" class=\"dataframe\">\n",
       "  <thead>\n",
       "    <tr style=\"text-align: right;\">\n",
       "      <th></th>\n",
       "      <th>South</th>\n",
       "      <th>North</th>\n",
       "      <th>East</th>\n",
       "      <th>West</th>\n",
       "      <th>Pickup</th>\n",
       "      <th>Dropoff</th>\n",
       "    </tr>\n",
       "  </thead>\n",
       "  <tbody>\n",
       "    <tr>\n",
       "      <td>0</td>\n",
       "      <td>0.0</td>\n",
       "      <td>0.0</td>\n",
       "      <td>0.0</td>\n",
       "      <td>0.0</td>\n",
       "      <td>0.0</td>\n",
       "      <td>0.0</td>\n",
       "    </tr>\n",
       "    <tr>\n",
       "      <td>1</td>\n",
       "      <td>0.0</td>\n",
       "      <td>0.0</td>\n",
       "      <td>0.0</td>\n",
       "      <td>0.0</td>\n",
       "      <td>0.0</td>\n",
       "      <td>0.0</td>\n",
       "    </tr>\n",
       "    <tr>\n",
       "      <td>2</td>\n",
       "      <td>0.0</td>\n",
       "      <td>0.0</td>\n",
       "      <td>0.0</td>\n",
       "      <td>0.0</td>\n",
       "      <td>0.0</td>\n",
       "      <td>0.0</td>\n",
       "    </tr>\n",
       "    <tr>\n",
       "      <td>3</td>\n",
       "      <td>0.0</td>\n",
       "      <td>0.0</td>\n",
       "      <td>0.0</td>\n",
       "      <td>0.0</td>\n",
       "      <td>0.0</td>\n",
       "      <td>0.0</td>\n",
       "    </tr>\n",
       "    <tr>\n",
       "      <td>4</td>\n",
       "      <td>0.0</td>\n",
       "      <td>0.0</td>\n",
       "      <td>0.0</td>\n",
       "      <td>0.0</td>\n",
       "      <td>0.0</td>\n",
       "      <td>0.0</td>\n",
       "    </tr>\n",
       "    <tr>\n",
       "      <td>...</td>\n",
       "      <td>...</td>\n",
       "      <td>...</td>\n",
       "      <td>...</td>\n",
       "      <td>...</td>\n",
       "      <td>...</td>\n",
       "      <td>...</td>\n",
       "    </tr>\n",
       "    <tr>\n",
       "      <td>495</td>\n",
       "      <td>0.0</td>\n",
       "      <td>0.0</td>\n",
       "      <td>0.0</td>\n",
       "      <td>0.0</td>\n",
       "      <td>0.0</td>\n",
       "      <td>0.0</td>\n",
       "    </tr>\n",
       "    <tr>\n",
       "      <td>496</td>\n",
       "      <td>0.0</td>\n",
       "      <td>0.0</td>\n",
       "      <td>0.0</td>\n",
       "      <td>0.0</td>\n",
       "      <td>0.0</td>\n",
       "      <td>0.0</td>\n",
       "    </tr>\n",
       "    <tr>\n",
       "      <td>497</td>\n",
       "      <td>0.0</td>\n",
       "      <td>0.0</td>\n",
       "      <td>0.0</td>\n",
       "      <td>0.0</td>\n",
       "      <td>0.0</td>\n",
       "      <td>0.0</td>\n",
       "    </tr>\n",
       "    <tr>\n",
       "      <td>498</td>\n",
       "      <td>0.0</td>\n",
       "      <td>0.0</td>\n",
       "      <td>0.0</td>\n",
       "      <td>0.0</td>\n",
       "      <td>0.0</td>\n",
       "      <td>0.0</td>\n",
       "    </tr>\n",
       "    <tr>\n",
       "      <td>499</td>\n",
       "      <td>0.0</td>\n",
       "      <td>0.0</td>\n",
       "      <td>0.0</td>\n",
       "      <td>0.0</td>\n",
       "      <td>0.0</td>\n",
       "      <td>0.0</td>\n",
       "    </tr>\n",
       "  </tbody>\n",
       "</table>\n",
       "<p>500 rows × 6 columns</p>\n",
       "</div>"
      ],
      "text/plain": [
       "     South  North  East  West  Pickup  Dropoff\n",
       "0      0.0    0.0   0.0   0.0     0.0      0.0\n",
       "1      0.0    0.0   0.0   0.0     0.0      0.0\n",
       "2      0.0    0.0   0.0   0.0     0.0      0.0\n",
       "3      0.0    0.0   0.0   0.0     0.0      0.0\n",
       "4      0.0    0.0   0.0   0.0     0.0      0.0\n",
       "..     ...    ...   ...   ...     ...      ...\n",
       "495    0.0    0.0   0.0   0.0     0.0      0.0\n",
       "496    0.0    0.0   0.0   0.0     0.0      0.0\n",
       "497    0.0    0.0   0.0   0.0     0.0      0.0\n",
       "498    0.0    0.0   0.0   0.0     0.0      0.0\n",
       "499    0.0    0.0   0.0   0.0     0.0      0.0\n",
       "\n",
       "[500 rows x 6 columns]"
      ]
     },
     "execution_count": 106,
     "metadata": {},
     "output_type": "execute_result"
    }
   ],
   "source": [
    "#Initialize Q table with zeros\n",
    "Q = np.zeros((env.env.observation_space.n, env.action_space.n))\n",
    "print(Q.shape)\n",
    "actions = \"South North East West Pickup Dropoff\".split()\n",
    "pd.DataFrame(Q, columns = actions)"
   ]
  },
  {
   "cell_type": "code",
   "execution_count": 107,
   "metadata": {},
   "outputs": [
    {
     "name": "stdout",
     "output_type": "stream",
     "text": [
      "-524\n",
      "-88\n",
      "-76\n",
      "14\n",
      "5\n",
      "1\n",
      "5\n",
      "10\n",
      "6\n",
      "11\n"
     ]
    }
   ],
   "source": [
    "alpha = 0.7 #learning rate\n",
    "gamma = 0.8 #discount factor\n",
    "episodes = 1000\n",
    "Q = np.zeros((env.env.observation_space.n, env.action_space.n))\n",
    "\n",
    "learning = {}\n",
    "for episode in range(episodes):\n",
    "    cur_state = env.reset()\n",
    "    reward = 0\n",
    "    total_reward = 0\n",
    "    done = False\n",
    "    while not done:\n",
    "        #action = env.env.action_space.sample()\n",
    "        action = np.argmax(Q[cur_state])\n",
    "        next_state, reward, done, _ = env.step(action)\n",
    "        total_reward += reward\n",
    "        Q[cur_state][action] += alpha*(reward + gamma*(np.max(Q[next_state]) - Q[cur_state][action]))\n",
    "        cur_state = next_state\n",
    "    learning[episode] = total_reward\n",
    "    if episode % 100 == 0:\n",
    "        print(total_reward)"
   ]
  },
  {
   "cell_type": "code",
   "execution_count": 108,
   "metadata": {},
   "outputs": [
    {
     "data": {
      "text/plain": [
       "<matplotlib.axes._subplots.AxesSubplot at 0x1a20736950>"
      ]
     },
     "execution_count": 108,
     "metadata": {},
     "output_type": "execute_result"
    },
    {
     "data": {
      "image/png": "[encoded data removed]",
      "text/plain": [
       "<Figure size 432x288 with 1 Axes>"
      ]
     },
     "metadata": {
      "needs_background": "light"
     },
     "output_type": "display_data"
    }
   ],
   "source": [
    "# Learning curve\n",
    "sns.lineplot(x = 0, y = 1, data = pd.DataFrame(learning.items()))"
   ]
  },
  {
   "cell_type": "markdown",
   "metadata": {},
   "source": [
    "Most of the learning is completed by ~ 400 episodes"
   ]
  },
  {
   "cell_type": "code",
   "execution_count": 109,
   "metadata": {},
   "outputs": [
    {
     "data": {
      "text/html": [
       "<div>\n",
       "<style scoped>\n",
       "    .dataframe tbody tr th:only-of-type {\n",
       "        vertical-align: middle;\n",
       "    }\n",
       "\n",
       "    .dataframe tbody tr th {\n",
       "        vertical-align: top;\n",
       "    }\n",
       "\n",
       "    .dataframe thead th {\n",
       "        text-align: right;\n",
       "    }\n",
       "</style>\n",
       "<table border=\"1\" class=\"dataframe\">\n",
       "  <thead>\n",
       "    <tr style=\"text-align: right;\">\n",
       "      <th></th>\n",
       "      <th>South</th>\n",
       "      <th>North</th>\n",
       "      <th>East</th>\n",
       "      <th>West</th>\n",
       "      <th>Pickup</th>\n",
       "      <th>Dropoff</th>\n",
       "    </tr>\n",
       "  </thead>\n",
       "  <tbody>\n",
       "    <tr>\n",
       "      <td>0</td>\n",
       "      <td>0.000000</td>\n",
       "      <td>0.000000</td>\n",
       "      <td>0.000000</td>\n",
       "      <td>0.000000</td>\n",
       "      <td>0.00</td>\n",
       "      <td>0.0</td>\n",
       "    </tr>\n",
       "    <tr>\n",
       "      <td>1</td>\n",
       "      <td>-7.552651</td>\n",
       "      <td>-7.000000</td>\n",
       "      <td>-6.903858</td>\n",
       "      <td>-7.000000</td>\n",
       "      <td>13.75</td>\n",
       "      <td>-7.0</td>\n",
       "    </tr>\n",
       "    <tr>\n",
       "      <td>2</td>\n",
       "      <td>-3.511544</td>\n",
       "      <td>-3.500000</td>\n",
       "      <td>-3.447908</td>\n",
       "      <td>-3.500000</td>\n",
       "      <td>18.75</td>\n",
       "      <td>-7.0</td>\n",
       "    </tr>\n",
       "    <tr>\n",
       "      <td>3</td>\n",
       "      <td>-6.206110</td>\n",
       "      <td>-6.300000</td>\n",
       "      <td>-6.817890</td>\n",
       "      <td>-6.300000</td>\n",
       "      <td>15.00</td>\n",
       "      <td>-7.0</td>\n",
       "    </tr>\n",
       "    <tr>\n",
       "      <td>4</td>\n",
       "      <td>-12.804649</td>\n",
       "      <td>-13.300000</td>\n",
       "      <td>-13.357784</td>\n",
       "      <td>-13.300000</td>\n",
       "      <td>-14.00</td>\n",
       "      <td>-14.0</td>\n",
       "    </tr>\n",
       "    <tr>\n",
       "      <td>...</td>\n",
       "      <td>...</td>\n",
       "      <td>...</td>\n",
       "      <td>...</td>\n",
       "      <td>...</td>\n",
       "      <td>...</td>\n",
       "      <td>...</td>\n",
       "    </tr>\n",
       "    <tr>\n",
       "      <td>495</td>\n",
       "      <td>0.000000</td>\n",
       "      <td>0.000000</td>\n",
       "      <td>0.000000</td>\n",
       "      <td>0.000000</td>\n",
       "      <td>0.00</td>\n",
       "      <td>0.0</td>\n",
       "    </tr>\n",
       "    <tr>\n",
       "      <td>496</td>\n",
       "      <td>-6.300000</td>\n",
       "      <td>-6.224872</td>\n",
       "      <td>-6.300000</td>\n",
       "      <td>-6.168029</td>\n",
       "      <td>-7.00</td>\n",
       "      <td>-7.0</td>\n",
       "    </tr>\n",
       "    <tr>\n",
       "      <td>497</td>\n",
       "      <td>-3.500000</td>\n",
       "      <td>-3.152936</td>\n",
       "      <td>-3.500000</td>\n",
       "      <td>-3.137851</td>\n",
       "      <td>-7.00</td>\n",
       "      <td>-7.0</td>\n",
       "    </tr>\n",
       "    <tr>\n",
       "      <td>498</td>\n",
       "      <td>-5.600000</td>\n",
       "      <td>-1.417172</td>\n",
       "      <td>-5.600000</td>\n",
       "      <td>-6.059126</td>\n",
       "      <td>-7.00</td>\n",
       "      <td>-7.0</td>\n",
       "    </tr>\n",
       "    <tr>\n",
       "      <td>499</td>\n",
       "      <td>-1.400000</td>\n",
       "      <td>-1.400000</td>\n",
       "      <td>-1.400000</td>\n",
       "      <td>6.832000</td>\n",
       "      <td>-7.00</td>\n",
       "      <td>-7.0</td>\n",
       "    </tr>\n",
       "  </tbody>\n",
       "</table>\n",
       "<p>500 rows × 6 columns</p>\n",
       "</div>"
      ],
      "text/plain": [
       "         South      North       East       West  Pickup  Dropoff\n",
       "0     0.000000   0.000000   0.000000   0.000000    0.00      0.0\n",
       "1    -7.552651  -7.000000  -6.903858  -7.000000   13.75     -7.0\n",
       "2    -3.511544  -3.500000  -3.447908  -3.500000   18.75     -7.0\n",
       "3    -6.206110  -6.300000  -6.817890  -6.300000   15.00     -7.0\n",
       "4   -12.804649 -13.300000 -13.357784 -13.300000  -14.00    -14.0\n",
       "..         ...        ...        ...        ...     ...      ...\n",
       "495   0.000000   0.000000   0.000000   0.000000    0.00      0.0\n",
       "496  -6.300000  -6.224872  -6.300000  -6.168029   -7.00     -7.0\n",
       "497  -3.500000  -3.152936  -3.500000  -3.137851   -7.00     -7.0\n",
       "498  -5.600000  -1.417172  -5.600000  -6.059126   -7.00     -7.0\n",
       "499  -1.400000  -1.400000  -1.400000   6.832000   -7.00     -7.0\n",
       "\n",
       "[500 rows x 6 columns]"
      ]
     },
     "execution_count": 109,
     "metadata": {},
     "output_type": "execute_result"
    }
   ],
   "source": [
    "# Q table after training\n",
    "pd.DataFrame(Q, columns = actions)"
   ]
  },
  {
   "cell_type": "code",
   "execution_count": 110,
   "metadata": {},
   "outputs": [
    {
     "name": "stdout",
     "output_type": "stream",
     "text": [
      "+---------+\n",
      "|R: | : :\u001b[34;1m\u001b[43mG\u001b[0m\u001b[0m|\n",
      "| : | : : |\n",
      "| : : : : |\n",
      "| | : | : |\n",
      "|\u001b[35mY\u001b[0m| : |B: |\n",
      "+---------+\n",
      "\n",
      "+---------+\n",
      "|R: | : :\u001b[42mG\u001b[0m|\n",
      "| : | : : |\n",
      "| : : : : |\n",
      "| | : | : |\n",
      "|\u001b[35mY\u001b[0m| : |B: |\n",
      "+---------+\n",
      "  (Pickup)\n",
      "+---------+\n",
      "|R: | : :G|\n",
      "| : | : :\u001b[42m_\u001b[0m|\n",
      "| : : : : |\n",
      "| | : | : |\n",
      "|\u001b[35mY\u001b[0m| : |B: |\n",
      "+---------+\n",
      "  (South)\n",
      "+---------+\n",
      "|R: | : :G|\n",
      "| : | : : |\n",
      "| : : : :\u001b[42m_\u001b[0m|\n",
      "| | : | : |\n",
      "|\u001b[35mY\u001b[0m| : |B: |\n",
      "+---------+\n",
      "  (South)\n",
      "+---------+\n",
      "|R: | : :G|\n",
      "| : | : : |\n",
      "| : : :\u001b[42m_\u001b[0m: |\n",
      "| | : | : |\n",
      "|\u001b[35mY\u001b[0m| : |B: |\n",
      "+---------+\n",
      "  (West)\n",
      "+---------+\n",
      "|R: | : :G|\n",
      "| : | : : |\n",
      "| : :\u001b[42m_\u001b[0m: : |\n",
      "| | : | : |\n",
      "|\u001b[35mY\u001b[0m| : |B: |\n",
      "+---------+\n",
      "  (West)\n",
      "+---------+\n",
      "|R: | : :G|\n",
      "| : | : : |\n",
      "| :\u001b[42m_\u001b[0m: : : |\n",
      "| | : | : |\n",
      "|\u001b[35mY\u001b[0m| : |B: |\n",
      "+---------+\n",
      "  (West)\n",
      "+---------+\n",
      "|R: | : :G|\n",
      "| : | : : |\n",
      "|\u001b[42m_\u001b[0m: : : : |\n",
      "| | : | : |\n",
      "|\u001b[35mY\u001b[0m| : |B: |\n",
      "+---------+\n",
      "  (West)\n",
      "+---------+\n",
      "|R: | : :G|\n",
      "| : | : : |\n",
      "| : : : : |\n",
      "|\u001b[42m_\u001b[0m| : | : |\n",
      "|\u001b[35mY\u001b[0m| : |B: |\n",
      "+---------+\n",
      "  (South)\n",
      "+---------+\n",
      "|R: | : :G|\n",
      "| : | : : |\n",
      "| : : : : |\n",
      "| | : | : |\n",
      "|\u001b[35m\u001b[42mY\u001b[0m\u001b[0m| : |B: |\n",
      "+---------+\n",
      "  (South)\n",
      "+---------+\n",
      "|R: | : :G|\n",
      "| : | : : |\n",
      "| : : : : |\n",
      "| | : | : |\n",
      "|\u001b[35m\u001b[34;1m\u001b[43mY\u001b[0m\u001b[0m\u001b[0m| : |B: |\n",
      "+---------+\n",
      "  (Dropoff)\n",
      "10 11\n"
     ]
    }
   ],
   "source": [
    "# Lets traverse the path based on q-learning solution\n",
    "reward = 0\n",
    "total_reward = 0\n",
    "steps = 0\n",
    "s = env.reset()\n",
    "env.render()\n",
    "done = False\n",
    "while not done:\n",
    "    action = np.argmax(Q[s])\n",
    "    s, reward, done, _ = env.step(action)\n",
    "    env.render()\n",
    "    total_reward += reward\n",
    "    steps+=1\n",
    "print(steps, total_reward)"
   ]
  },
  {
   "cell_type": "markdown",
   "metadata": {},
   "source": [
    "# Other algorithms to explore\n",
    "\n",
    "### SARSA: Epsilon-greedy Q-learning\n",
    "\n",
    "### DQN: Deep Q-Network\n",
    "* Q table is replaced by a neural network which represents a Q function\n",
    "* Can be used to predict action for unseen states unlike Q table \n",
    "\n",
    "### DDPG (Deep Deterministic Policy Gradient):\n",
    "*  Used for very large action spaces\n",
    "\n",
    "## Taxonomy of RL Algorithms:  \n",
    "* Model Based vs. Model Free (You do not need to know all the states of environment upfront)  \n",
    "https://spinningup.openai.com/en/latest/spinningup/rl_intro2.html#a-taxonomy-of-rl-algorithms"
   ]
  },
  {
   "cell_type": "markdown",
   "metadata": {},
   "source": [
    "# Further Reading\n",
    "https://spinningup.openai.com/en/latest/index.html\n",
    "http://incompleteideas.net/book/bookdraft2017nov5.pdf"
   ]
  },
  {
   "cell_type": "code",
   "execution_count": null,
   "metadata": {},
   "outputs": [],
   "source": []
  }
 ],
 "metadata": {
  "kernelspec": {
   "display_name": "Python 3",
   "language": "python",
   "name": "python3"
  },
  "language_info": {
   "codemirror_mode": {
    "name": "ipython",
    "version": 3
   },
   "file_extension": ".py",
   "mimetype": "text/x-python",
   "name": "python",
   "nbconvert_exporter": "python",
   "pygments_lexer": "ipython3",
   "version": "3.7.4"
  }
 },
 "nbformat": 4,
 "nbformat_minor": 2
}
