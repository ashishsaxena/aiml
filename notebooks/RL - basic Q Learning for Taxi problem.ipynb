{
 "cells": [
  {
   "cell_type": "code",
   "execution_count": 268,
   "metadata": {},
   "outputs": [],
   "source": [
    "# OpenAI gym library provides models for the environment on which we can apply RL algos\n",
    "import gym\n",
    "import numpy as np\n",
    "import pandas as pd\n",
    "import seaborn as sns"
   ]
  },
  {
   "cell_type": "markdown",
   "metadata": {},
   "source": [
    "# Problem Statement\n",
    "https://gym.openai.com/envs/Taxi-v3/"
   ]
  },
  {
   "cell_type": "code",
   "execution_count": 104,
   "metadata": {},
   "outputs": [
    {
     "name": "stdout",
     "output_type": "stream",
     "text": [
      "+---------+\n",
      "|R: | : :\u001b[34;1mG\u001b[0m|\n",
      "| : | : : |\n",
      "| : : : : |\n",
      "| | : | : |\n",
      "|\u001b[35m\u001b[43mY\u001b[0m\u001b[0m| : |B: |\n",
      "+---------+\n",
      "\n"
     ]
    }
   ],
   "source": [
    "env = gym.make('Taxi-v3')\n",
    "env.reset()\n",
    "env.render()"
   ]
  },
  {
   "cell_type": "markdown",
   "metadata": {},
   "source": [
    "* The above visual shows an area which has been divided into 5x5 grid\n",
    "* There is a self driving taxi (indicated by yellow mark when empty and green mark when passenger has occupied it).\n",
    "* The job for self driving taxi is to pick up the passenger at one of the 4 locations and drop off in another location"
   ]
  },
  {
   "cell_type": "code",
   "execution_count": 74,
   "metadata": {},
   "outputs": [
    {
     "name": "stdout",
     "output_type": "stream",
     "text": [
      "\n",
      "    The Taxi Problem\n",
      "    from \"Hierarchical Reinforcement Learning with the MAXQ Value Function Decomposition\"\n",
      "    by Tom Dietterich\n",
      "\n",
      "    Description:\n",
      "    There are four designated locations in the grid world indicated by R(ed), G(reen), Y(ellow), and B(lue). When the episode starts, the taxi starts off at a random square and the passenger is at a random location. The taxi drives to the passenger's location, picks up the passenger, drives to the passenger's destination (another one of the four specified locations), and then drops off the passenger. Once the passenger is dropped off, the episode ends.\n",
      "\n",
      "    Observations: \n",
      "    There are 500 discrete states since there are 25 taxi positions, 5 possible locations of the passenger (including the case when the passenger is in the taxi), and 4 destination locations. \n",
      "    \n",
      "    Passenger locations:\n",
      "    - 0: R(ed)\n",
      "    - 1: G(reen)\n",
      "    - 2: Y(ellow)\n",
      "    - 3: B(lue)\n",
      "    - 4: in taxi\n",
      "    \n",
      "    Destinations:\n",
      "    - 0: R(ed)\n",
      "    - 1: G(reen)\n",
      "    - 2: Y(ellow)\n",
      "    - 3: B(lue)\n",
      "        \n",
      "    Actions:\n",
      "    There are 6 discrete deterministic actions:\n",
      "    - 0: move south\n",
      "    - 1: move north\n",
      "    - 2: move east \n",
      "    - 3: move west \n",
      "    - 4: pickup passenger\n",
      "    - 5: dropoff passenger\n",
      "    \n",
      "    Rewards: \n",
      "    There is a reward of -1 for each action and an additional reward of +20 for delivering the passenger. There is a reward of -10 for executing actions \"pickup\" and \"dropoff\" illegally.\n",
      "    \n",
      "\n",
      "    Rendering:\n",
      "    - blue: passenger\n",
      "    - magenta: destination\n",
      "    - yellow: empty taxi\n",
      "    - green: full taxi\n",
      "    - other letters (R, G, Y and B): locations for passengers and destinations\n",
      "    \n",
      "\n",
      "    state space is represented by:\n",
      "        (taxi_row, taxi_col, passenger_location, destination)\n",
      "    \n"
     ]
    }
   ],
   "source": [
    "from gym.envs.toy_text.taxi import TaxiEnv\n",
    "print(TaxiEnv.__doc__)"
   ]
  },
  {
   "cell_type": "markdown",
   "metadata": {},
   "source": [
    "# How do we solve this problem using Reinforcement Learning?"
   ]
  },
  {
   "cell_type": "markdown",
   "metadata": {},
   "source": [
    "Lets set the terminology right  \n",
    "\n",
    "Environment: 5x5 space in which the taxi ferries the passenger from pickup to drop location (universe in which the agent performs action and learns)  \n",
    "Agent: Taxi (learner)  \n",
    "Action: Taxi moves 1 grid east/west/north/south or picks/drops passenger  \n",
    "State: One of the 500 possible states of the environment with a specific position of taxi and passenger  \n",
    "Reward: -1 for each action, +20 for correct drop off, -10 for incorrect drop-off \n",
    "\n",
    "RL - Solve the problem of maximizing the reward"
   ]
  },
  {
   "cell_type": "markdown",
   "metadata": {},
   "source": [
    "Lets use the Q-learning algorithm to solve this problem"
   ]
  },
  {
   "cell_type": "code",
   "execution_count": 173,
   "metadata": {},
   "outputs": [
    {
     "name": "stdout",
     "output_type": "stream",
     "text": [
      "Discrete(500)\n",
      "Discrete(6)\n"
     ]
    }
   ],
   "source": [
    "# There are 500 possible states and 6 possible actions\n",
    "print(env.env.observation_space)\n",
    "print(env.action_space)"
   ]
  },
  {
   "cell_type": "code",
   "execution_count": 174,
   "metadata": {},
   "outputs": [
    {
     "name": "stdout",
     "output_type": "stream",
     "text": [
      "+---------+\n",
      "|\u001b[35mR\u001b[0m: | : :G|\n",
      "| : | : : |\n",
      "| : : : : |\n",
      "| | : | : |\n",
      "|Y| : |\u001b[34;1mB\u001b[0m:\u001b[43m \u001b[0m|\n",
      "+---------+\n",
      "  (Dropoff)\n",
      "+---------+\n",
      "|\u001b[35mR\u001b[0m: | : :G|\n",
      "| : | : : |\n",
      "| : : : : |\n",
      "| | : | : |\n",
      "|Y| : |\u001b[34;1m\u001b[43mB\u001b[0m\u001b[0m: |\n",
      "+---------+\n",
      "  (West)\n",
      "+---------+\n",
      "|\u001b[35mR\u001b[0m: | : :G|\n",
      "| : | : : |\n",
      "| : : : : |\n",
      "| | : | : |\n",
      "|Y| : |\u001b[42mB\u001b[0m: |\n",
      "+---------+\n",
      "  (Pickup)\n",
      "+---------+\n",
      "|\u001b[35mR\u001b[0m: | : :G|\n",
      "| : | : : |\n",
      "| : : : : |\n",
      "| | : |\u001b[42m_\u001b[0m: |\n",
      "|Y| : |B: |\n",
      "+---------+\n",
      "  (North)\n",
      "+---------+\n",
      "|\u001b[35m\u001b[42mR\u001b[0m\u001b[0m: | : :G|\n",
      "| : | : : |\n",
      "| : : : : |\n",
      "| | : | : |\n",
      "|Y| : |B: |\n",
      "+---------+\n",
      "  (North)\n",
      "+---------+\n",
      "|\u001b[35m\u001b[34;1m\u001b[43mR\u001b[0m\u001b[0m\u001b[0m: | : :G|\n",
      "| : | : : |\n",
      "| : : : : |\n",
      "| | : | : |\n",
      "|Y| : |B: |\n",
      "+---------+\n",
      "  (Dropoff)\n"
     ]
    }
   ],
   "source": [
    "## Lets look at step by step navigation to better understand the environment\n",
    "\n",
    "env.env.s = 492\n",
    "env.render()\n",
    "\n",
    "#Move West\n",
    "env.step(3)\n",
    "env.render()\n",
    "\n",
    "env.step(4)\n",
    "env.render()\n",
    "\n",
    "env.step(1)\n",
    "env.render()\n",
    "\n",
    "env.step(1)\n",
    "env.step(3)\n",
    "env.step(3)\n",
    "env.step(3)\n",
    "env.step(1)\n",
    "env.step(1)\n",
    "env.render()\n",
    "\n",
    "env.step(5)\n",
    "env.render()"
   ]
  },
  {
   "cell_type": "markdown",
   "metadata": {},
   "source": [
    "## Lets try to solve the problem by brute force"
   ]
  },
  {
   "cell_type": "code",
   "execution_count": 273,
   "metadata": {},
   "outputs": [
    {
     "name": "stdout",
     "output_type": "stream",
     "text": [
      "1256 -4817\n"
     ]
    }
   ],
   "source": [
    "reward = 0\n",
    "total_reward = 0\n",
    "steps = 0\n",
    "env.reset()\n",
    "while reward!=20:\n",
    "    _, reward, _, _ = env.step(env.env.action_space.sample())\n",
    "    total_reward += reward\n",
    "    steps+=1\n",
    "print(steps, total_reward)"
   ]
  },
  {
   "cell_type": "markdown",
   "metadata": {},
   "source": [
    "# Solve the problem using q-learning\n",
    "https://spinningup.openai.com/en/latest/spinningup/rl_intro2.html#a-taxonomy-of-rl-algorithms"
   ]
  },
  {
   "cell_type": "code",
   "execution_count": 335,
   "metadata": {},
   "outputs": [
    {
     "name": "stdout",
     "output_type": "stream",
     "text": [
      "(500, 6)\n",
      "[[0. 0. 0. 0. 0. 0.]\n",
      " [0. 0. 0. 0. 0. 0.]\n",
      " [0. 0. 0. 0. 0. 0.]\n",
      " ...\n",
      " [0. 0. 0. 0. 0. 0.]\n",
      " [0. 0. 0. 0. 0. 0.]\n",
      " [0. 0. 0. 0. 0. 0.]]\n"
     ]
    }
   ],
   "source": [
    "#Initialize Q table with zeros\n",
    "Q = np.zeros((env.env.observation_space.n, env.action_space.n))\n",
    "print(Q.shape)\n",
    "print (Q)"
   ]
  },
  {
   "cell_type": "code",
   "execution_count": 328,
   "metadata": {},
   "outputs": [
    {
     "name": "stdout",
     "output_type": "stream",
     "text": [
      "-560\n",
      "-152\n",
      "11\n",
      "9\n",
      "-2\n",
      "11\n",
      "3\n",
      "6\n",
      "4\n",
      "8\n"
     ]
    }
   ],
   "source": [
    "alpha = 0.5\n",
    "gamma = 0.8\n",
    "episodes = 1000\n",
    "Q = np.zeros((env.env.observation_space.n, env.action_space.n))\n",
    "\n",
    "learning = {}\n",
    "for episode in range(episodes):\n",
    "    cur_state = env.reset()\n",
    "    reward = 0\n",
    "    total_reward = 0\n",
    "    done = False\n",
    "    while not done:\n",
    "        #action = env.env.action_space.sample()\n",
    "        action = np.argmax(Q[cur_state])\n",
    "        next_state, reward, done, _ = env.step(action)\n",
    "        total_reward += reward\n",
    "        Q[cur_state][action] += alpha*(reward + gamma*(np.max(Q[next_state]) - Q[cur_state][action]))\n",
    "        cur_state = next_state\n",
    "    learning[episode] = total_reward\n",
    "    if episode % 100 == 0:\n",
    "        print(total_reward)"
   ]
  },
  {
   "cell_type": "code",
   "execution_count": 338,
   "metadata": {},
   "outputs": [
    {
     "data": {
      "text/html": [
       "<div>\n",
       "<style scoped>\n",
       "    .dataframe tbody tr th:only-of-type {\n",
       "        vertical-align: middle;\n",
       "    }\n",
       "\n",
       "    .dataframe tbody tr th {\n",
       "        vertical-align: top;\n",
       "    }\n",
       "\n",
       "    .dataframe thead th {\n",
       "        text-align: right;\n",
       "    }\n",
       "</style>\n",
       "<table border=\"1\" class=\"dataframe\">\n",
       "  <thead>\n",
       "    <tr style=\"text-align: right;\">\n",
       "      <th></th>\n",
       "      <th>0</th>\n",
       "      <th>1</th>\n",
       "    </tr>\n",
       "  </thead>\n",
       "  <tbody>\n",
       "    <tr>\n",
       "      <td>0</td>\n",
       "      <td>0</td>\n",
       "      <td>-560</td>\n",
       "    </tr>\n",
       "    <tr>\n",
       "      <td>1</td>\n",
       "      <td>1</td>\n",
       "      <td>-596</td>\n",
       "    </tr>\n",
       "    <tr>\n",
       "      <td>2</td>\n",
       "      <td>2</td>\n",
       "      <td>-542</td>\n",
       "    </tr>\n",
       "    <tr>\n",
       "      <td>3</td>\n",
       "      <td>3</td>\n",
       "      <td>-524</td>\n",
       "    </tr>\n",
       "    <tr>\n",
       "      <td>4</td>\n",
       "      <td>4</td>\n",
       "      <td>-524</td>\n",
       "    </tr>\n",
       "  </tbody>\n",
       "</table>\n",
       "</div>"
      ],
      "text/plain": [
       "   0    1\n",
       "0  0 -560\n",
       "1  1 -596\n",
       "2  2 -542\n",
       "3  3 -524\n",
       "4  4 -524"
      ]
     },
     "execution_count": 338,
     "metadata": {},
     "output_type": "execute_result"
    }
   ],
   "source": [
    "df = pd.DataFrame(learning.items())\n",
    "df.head()"
   ]
  },
  {
   "cell_type": "code",
   "execution_count": 339,
   "metadata": {},
   "outputs": [
    {
     "data": {
      "text/plain": [
       "<matplotlib.axes._subplots.AxesSubplot at 0x102e440d0>"
      ]
     },
     "execution_count": 339,
     "metadata": {},
     "output_type": "execute_result"
    },
    {
     "data": {
      "image/png": "[encoded data removed]",
      "text/plain": [
       "<Figure size 432x288 with 1 Axes>"
      ]
     },
     "metadata": {
      "needs_background": "light"
     },
     "output_type": "display_data"
    }
   ],
   "source": [
    "sns.lineplot(x = 0, y = 1, data = df)"
   ]
  },
  {
   "cell_type": "code",
   "execution_count": 334,
   "metadata": {},
   "outputs": [
    {
     "data": {
      "text/plain": [
       "array([[  0.        ,   0.        ,   0.        ,   0.        ,\n",
       "          0.        ,   0.        ],\n",
       "       [ -6.12747089,  -6.        ,  -5.77417802,  -6.        ,\n",
       "         13.75      , -10.        ],\n",
       "       [ -3.8317888 ,  -4.        ,  -4.12838784,  -4.        ,\n",
       "         18.75      ,  -5.        ],\n",
       "       ...,\n",
       "       [ -2.5       ,  -0.4495936 ,  -2.5       ,  -2.9008192 ,\n",
       "         -5.        ,  -5.        ],\n",
       "       [ -4.        ,  -4.02975872,  -4.        ,  -4.41027226,\n",
       "         -5.        ,  -5.        ],\n",
       "       [ -1.        ,  -1.        ,  -1.        ,   3.2       ,\n",
       "         -5.        ,  -5.        ]])"
      ]
     },
     "execution_count": 334,
     "metadata": {},
     "output_type": "execute_result"
    }
   ],
   "source": [
    "# Q table after training\n",
    "Q"
   ]
  },
  {
   "cell_type": "code",
   "execution_count": 333,
   "metadata": {},
   "outputs": [
    {
     "name": "stdout",
     "output_type": "stream",
     "text": [
      "+---------+\n",
      "|R: | : :\u001b[34;1mG\u001b[0m|\n",
      "| : | : : |\n",
      "| : :\u001b[43m \u001b[0m: : |\n",
      "| | : | : |\n",
      "|\u001b[35mY\u001b[0m| : |B: |\n",
      "+---------+\n",
      "\n",
      "+---------+\n",
      "|R: | : :G|\n",
      "| : | : : |\n",
      "| : : : : |\n",
      "| | : | : |\n",
      "|\u001b[35m\u001b[34;1m\u001b[43mY\u001b[0m\u001b[0m\u001b[0m| : |B: |\n",
      "+---------+\n",
      "  (Dropoff)\n",
      "14 7\n"
     ]
    }
   ],
   "source": [
    "reward = 0\n",
    "total_reward = 0\n",
    "steps = 0\n",
    "s = env.reset()\n",
    "env.render()\n",
    "done = False\n",
    "while not done:\n",
    "    action = np.argmax(Q[s])\n",
    "    s, reward, done, _ = env.step(action)\n",
    "    total_reward += reward\n",
    "    steps+=1\n",
    "env.render()\n",
    "print(steps, total_reward)"
   ]
  },
  {
   "cell_type": "code",
   "execution_count": 331,
   "metadata": {},
   "outputs": [
    {
     "ename": "SyntaxError",
     "evalue": "invalid syntax (<ipython-input-331-111ec495c825>, line 1)",
     "output_type": "error",
     "traceback": [
      "\u001b[0;36m  File \u001b[0;32m\"<ipython-input-331-111ec495c825>\"\u001b[0;36m, line \u001b[0;32m1\u001b[0m\n\u001b[0;31m    what is q in q learning\u001b[0m\n\u001b[0m                          ^\u001b[0m\n\u001b[0;31mSyntaxError\u001b[0m\u001b[0;31m:\u001b[0m invalid syntax\n"
     ]
    }
   ],
   "source": [
    "what is q in q learning\n",
    "print q table\n",
    "how to evaluate the performance of the model\n",
    "what are the othe algos\n",
    "to which type of problems can RI be applied? problems of maximization?\n",
    "* env, agent, action, state, reward\n",
    "* model free vs model based\n",
    "* off-policy vs on-policy\n",
    "* Q-learning, SARSA,"
   ]
  }
 ],
 "metadata": {
  "kernelspec": {
   "display_name": "Python 3",
   "language": "python",
   "name": "python3"
  },
  "language_info": {
   "codemirror_mode": {
    "name": "ipython",
    "version": 3
   },
   "file_extension": ".py",
   "mimetype": "text/x-python",
   "name": "python",
   "nbconvert_exporter": "python",
   "pygments_lexer": "ipython3",
   "version": "3.7.4"
  }
 },
 "nbformat": 4,
 "nbformat_minor": 2
}
