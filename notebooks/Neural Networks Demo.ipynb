{
 "cells": [
  {
   "cell_type": "markdown",
   "metadata": {},
   "source": [
    "The goal of this notebook is to show the basic structure of a neural network and how can we implement it.\n",
    "The entire functioning of the neural network can be broken down into a lot of mathematical details. For this session, we will focus on programming a neural network and develop a high level understanding of the neural network."
   ]
  },
  {
   "cell_type": "markdown",
   "metadata": {},
   "source": [
    "# What is a Neural Network?\n",
    "* Inspired from the human brain which has 86 billion neurons and 100 trillion interconnections.\n",
    "* For this demo, we will look at a minimal neural network with 60 neurons and 3700 interconnections"
   ]
  },
  {
   "cell_type": "markdown",
   "metadata": {},
   "source": [
    "![Image](https://upload.wikimedia.org/wikipedia/commons/4/44/Neuron3.png)"
   ]
  },
  {
   "cell_type": "markdown",
   "metadata": {},
   "source": [
    "<div>\n",
    "<img src=\"https://upload.wikimedia.org/wikipedia/commons/thumb/4/46/Colored_neural_network.svg/800px-Colored_neural_network.svg.png\" width=\"300\"/>\n",
    "</div>\n",
    "\n",
    "## What does each layer in an artificial NN represent?\n",
    "#### Input Layer\n",
    "Fixed based on shape of input data  \n",
    "\n",
    "#### Hidden Layers\n",
    "* Consists of learnable weights. This is the part which needs to be customized and designed . \n",
    "* There can be multiple hidden layers. First hidden layer extracts features of input\n",
    "* Second layer extracts features of first layer features and so on\n",
    "\n",
    "#### Output Layer\n",
    "* Gives desired output\n",
    "* It consists of a fully connected layer followed by a non-linear activation function\n",
    "* Output Layer -> Fixed based on nature of output\n",
    "\n",
    "## How does it work?\n",
    "* The network is initialized with some weights\n",
    "* The network produces an output\n",
    "* This output is compared against the expected output using loss function\n",
    "(classification - cross entropy loss vs prediction - MSE)\n",
    "* The weights are optimised in order to reduce the loss using an algorithm\n",
    "* The alogorithm used is known as Gradient Descent and backpropogation\n",
    "\n",
    "Let's visualize this:\n",
    "http://playground.tensorflow.org/"
   ]
  },
  {
   "cell_type": "markdown",
   "metadata": {},
   "source": [
    "# What are activation functions? What is the use of non-linear activation functions?\n",
    "* Inspired from the decision making capability of the brain.\n",
    "* It \"activates\" the interconnections between neurons\n",
    "* Another way to look at it is that without an activation function, a neural network is reduced to a linear function of the form: y = wx + b and which has very limited use when handling complex inputs\n",
    "* Non-linearity deeply enriches the capability of neural networks to express complex relations between input and output \n",
    "\n",
    "# What is loss function?\n",
    "* In case of classification problem, we can use \"Cross Entropy Loss\"\n",
    "* Simply compares the predicted probability with the actual 1 hot vector\n",
    "\n",
    "# How does the learning happen?\n",
    "* Via gradient descent. \n",
    "* We move the weights in the direction so that the gradient of loss function reduces. This is because we will find minimum loss in the direction where gradient is reducing\n",
    "(Explain by drawing)"
   ]
  },
  {
   "cell_type": "markdown",
   "metadata": {},
   "source": [
    "# Time for Demo"
   ]
  },
  {
   "cell_type": "code",
   "execution_count": 1,
   "metadata": {},
   "outputs": [],
   "source": [
    "# Common libraries\n",
    "import numpy as np\n",
    "import matplotlib.pyplot as plt\n",
    "from sklearn.metrics import classification_report, accuracy_score"
   ]
  },
  {
   "cell_type": "code",
   "execution_count": 2,
   "metadata": {},
   "outputs": [],
   "source": [
    "# We will load the handwrittend digits dataset from sklearn\n",
    "from sklearn.datasets import load_digits\n",
    "digits = load_digits()"
   ]
  },
  {
   "cell_type": "code",
   "execution_count": 3,
   "metadata": {},
   "outputs": [
    {
     "name": "stdout",
     "output_type": "stream",
     "text": [
      "5\n"
     ]
    },
    {
     "data": {
      "image/png": "[encoded data removed]",
      "text/plain": [
       "<Figure size 288x288 with 1 Axes>"
      ]
     },
     "metadata": {
      "needs_background": "light"
     },
     "output_type": "display_data"
    }
   ],
   "source": [
    "# Lets look at the data and its label for a random sample\n",
    "import numpy as np\n",
    "random_idx = np.random.randint(len(digits.data))\n",
    "\n",
    "#label\n",
    "print(digits.target[random_idx])\n",
    "\n",
    "#image\n",
    "import matplotlib.pyplot as plt \n",
    "plt.matshow(digits.images[random_idx]) \n",
    "plt.show()"
   ]
  },
  {
   "cell_type": "code",
   "execution_count": 4,
   "metadata": {},
   "outputs": [],
   "source": [
    "#Convert target variable to 1 hot encoding\n",
    "from sklearn import preprocessing\n",
    "le = preprocessing.OneHotEncoder()\n",
    "y = le.fit_transform(digits.target.reshape(-1,1)).toarray()"
   ]
  },
  {
   "cell_type": "code",
   "execution_count": 5,
   "metadata": {},
   "outputs": [
    {
     "name": "stdout",
     "output_type": "stream",
     "text": [
      "(1347, 64) (450, 64) (1347, 10) (450, 10)\n"
     ]
    }
   ],
   "source": [
    "#Split the data into training and test data\n",
    "from sklearn.model_selection import train_test_split\n",
    "InputData_train, InputData_test, y_train, y_test = train_test_split(digits.data, y, test_size = 0.25, random_state = 22)\n",
    "print(InputData_train.shape, InputData_test.shape, y_train.shape, y_test.shape)"
   ]
  },
  {
   "cell_type": "code",
   "execution_count": 20,
   "metadata": {},
   "outputs": [],
   "source": [
    "# Define activation, loss, and their derivatives\n",
    "\n",
    "#Activation Functions\n",
    "def sigmoid(x):\n",
    "    # smoother than step function\n",
    "    # while learning we change weights/bias\n",
    "    # sigmoid output will help in determining the direction of change\n",
    "    return 1 / (1 + np.exp(-x))\n",
    "\n",
    "def softmax(y):\n",
    "    return np.exp(y) / np.sum(np.exp(y), axis=0)\n",
    "\n",
    "\n",
    "def relu(x):\n",
    "    # rectified linear function\n",
    "    # gradient is constant for half of the input range\n",
    "    # never used in output\n",
    "    # only used for hidden neurons\n",
    "    return np.maximum(0,x) # ReLU is very simple\n",
    "\n",
    "#Loss Function for categorical variables\n",
    "def cross_entropy_loss(y, y_hat):\n",
    "    L_sum = np.sum(np.multiply(y, np.log(y_hat)))\n",
    "    m = y.shape[1]\n",
    "    L = -(1/m) * L_sum\n",
    "    return L\n",
    "\n",
    "\n",
    "#Derivatives\n",
    "def relu_derivative(x):\n",
    "    return 0.5 * (np.sign(x)+1) # ReLU derivative is either zero or 1.\n",
    "\n",
    "def sigmoid_derivative(z):\n",
    "    return z * (1-z)\n",
    "\n",
    "def softmax_derivative(output, ideal_output):\n",
    "    return output - ideal_output\n",
    "\n",
    "def softmax_grad(softmax):\n",
    "    # Reshape the 1-d softmax to 2-d so that np.dot will do the matrix multiplication\n",
    "    s = softmax.reshape(-1,1)\n",
    "    return np.diagflat(s) - np.dot(s, s.T)"
   ]
  },
  {
   "cell_type": "code",
   "execution_count": 23,
   "metadata": {},
   "outputs": [
    {
     "data": {
      "image/png": "[encoded data removed]",
      "text/plain": [
       "<Figure size 432x288 with 1 Axes>"
      ]
     },
     "metadata": {
      "needs_background": "light"
     },
     "output_type": "display_data"
    }
   ],
   "source": [
    "x = [xi for xi in range(-10, 11)]\n",
    "y = [relu(xi) for xi in x]\n",
    "plt.plot(x, y)\n",
    "plt.show()"
   ]
  },
  {
   "cell_type": "code",
   "execution_count": 26,
   "metadata": {},
   "outputs": [
    {
     "data": {
      "image/png": "[encoded data removed]",
      "text/plain": [
       "<Figure size 432x288 with 1 Axes>"
      ]
     },
     "metadata": {
      "needs_background": "light"
     },
     "output_type": "display_data"
    }
   ],
   "source": [
    "y = [sigmoid(xi) for xi in x]\n",
    "plt.plot(x, y)\n",
    "plt.show()"
   ]
  },
  {
   "cell_type": "code",
   "execution_count": 29,
   "metadata": {},
   "outputs": [
    {
     "data": {
      "image/png": "[encoded data removed]",
      "text/plain": [
       "<Figure size 432x288 with 1 Axes>"
      ]
     },
     "metadata": {
      "needs_background": "light"
     },
     "output_type": "display_data"
    }
   ],
   "source": [
    "from sklearn.preprocessing import StandardScaler\n",
    "xe = np.concatenate([np.arange(10), np.arange(30,40)]).reshape(-1,1)\n",
    "scaler = StandardScaler()\n",
    "xe_scaled = scaler.fit_transform(xe)\n",
    "y = [sigmoid(xi) for xi in xe_scaled]\n",
    "plt.plot(xe, y, marker = 'o')\n",
    "plt.show()"
   ]
  },
  {
   "cell_type": "code",
   "execution_count": 7,
   "metadata": {},
   "outputs": [],
   "source": [
    "# Hyperparameters\n",
    "learning_rate = 0.01\n",
    "\n",
    "nDigits = 10\n",
    "inputDim = InputData_train.shape[1]\n",
    "nHidden = 50\n",
    "weight_decay = 0.001\n",
    "\n",
    "W1 = 0.01*np.random.randn(nHidden, inputDim)\n",
    "b1 = np.zeros((nHidden, 1))\n",
    "W2 = 0.01*np.random.randn(nDigits, nHidden)\n",
    "b2 = np.zeros((nDigits, 1))\n",
    "\n",
    "inputData = InputData_train\n",
    "y = y_train"
   ]
  },
  {
   "cell_type": "code",
   "execution_count": 8,
   "metadata": {},
   "outputs": [
    {
     "data": {
      "text/plain": [
       "((1347, 64), (50, 64))"
      ]
     },
     "execution_count": 8,
     "metadata": {},
     "output_type": "execute_result"
    }
   ],
   "source": [
    "inputData.shape, W1.shape"
   ]
  },
  {
   "cell_type": "code",
   "execution_count": 9,
   "metadata": {},
   "outputs": [],
   "source": [
    "import logging\n",
    "logger = logging.getLogger()\n",
    "logger.setLevel(logging.DEBUG)"
   ]
  },
  {
   "cell_type": "code",
   "execution_count": 10,
   "metadata": {},
   "outputs": [
    {
     "name": "stdout",
     "output_type": "stream",
     "text": [
      "Epoch 0 loss:  2.301871315017749\n",
      "Epoch 100 loss:  1.0108708746648127\n",
      "Epoch 200 loss:  0.3970792370473779\n",
      "Epoch 300 loss:  0.2705033064466911\n",
      "Epoch 400 loss:  0.2219349560591161\n"
     ]
    },
    {
     "data": {
      "text/plain": [
       "<function matplotlib.pyplot.show(*args, **kw)>"
      ]
     },
     "execution_count": 10,
     "metadata": {},
     "output_type": "execute_result"
    },
    {
     "data": {
      "image/png": "[encoded data removed]",
      "text/plain": [
       "<Figure size 432x288 with 1 Axes>"
      ]
     },
     "metadata": {
      "needs_background": "light"
     },
     "output_type": "display_data"
    }
   ],
   "source": [
    "m = len(inputData)\n",
    "nEpochs = 500\n",
    "loss_plot = np.zeros(nEpochs)\n",
    "\n",
    "for i in range(nEpochs):\n",
    "\n",
    "    # Layer 1A : FC\n",
    "    logger.debug(f'Layer 1A Fully Connected \\nWeights: {W1.shape}, Input Shape: {inputData.T.shape}, Bias Shape: {b1.shape}')\n",
    "    Z1 = np.matmul(W1,inputData.T) + b1\n",
    "    \n",
    "    #Layer 1B: FC : relu activation\n",
    "    logger.debug(f'Layer 1B Relu: Input Shape {Z1.shape}\\n')\n",
    "    A1 = relu(Z1)\n",
    "    \n",
    "    #Layer 2 : FC\n",
    "    logger.debug(f'Layer 2: Fully Connected \\nWeights: {W2.shape}, Input Shape: {A1.shape}, Bias Shape: {b2.shape}\\n')\n",
    "    Z2 = np.matmul(W2,A1) + b2\n",
    "    \n",
    "    #Output Layer - Softmax\n",
    "    logger.debug(f'Layer Softmax Output: \\nInput: {Z2.shape}\\n')\n",
    "    A2 = softmax(Z2)\n",
    "\n",
    "    #Loss calculation\n",
    "    logger.debug(f'CrossEntropyLoss:\\nTraining Labels: {y.T.shape}, Predicted Labels:{A2.shape}\\n')\n",
    "    loss = cross_entropy_loss(y.T, A2)\n",
    "    loss_plot[i] = loss\n",
    "\n",
    "    # Gradient from layer 4\n",
    "    logger.debug(f'Softmax Gradient Inputs:\\n Predicted Labels:{A2.shape}, Actual Labels: {y.T.shape}, \\n')\n",
    "    dZ2 = softmax_derivative(A2,y.T)\n",
    "    \n",
    "    #Gradients from layer 3\n",
    "    dW2 = (1./m) * np.matmul(dZ2, A1.T)\n",
    "    db2 = (1./m) * np.sum(dZ2, axis=1, keepdims=True)\n",
    "\n",
    "    #gradients from layer 2\n",
    "    dA1 = np.matmul(W2.T, dZ2)\n",
    "    dZ1 = dA1 * relu_derivative(Z1)\n",
    "    \n",
    "    #gradients for layer 1\n",
    "    dW1 = (1./m) * np.matmul(dZ1, inputData)\n",
    "    db1 = (1./m) * np.sum(dZ1, axis=1, keepdims=True)\n",
    "\n",
    "    W2 -= learning_rate * dW2 + weight_decay * W2\n",
    "    b2 -= learning_rate * db2\n",
    "    W1 -= learning_rate * dW1 + weight_decay * W1\n",
    "    b1 -= learning_rate * db1\n",
    "    logger.setLevel(logging.INFO)\n",
    "    if (i % 100 == 0):\n",
    "        print(\"Epoch\", i, \"loss: \", loss)\n",
    "    \n",
    "plt.plot(loss_plot)\n",
    "plt.xlabel('Epochs')\n",
    "plt.ylabel('Training Loss')\n",
    "plt.show"
   ]
  },
  {
   "cell_type": "code",
   "execution_count": 11,
   "metadata": {},
   "outputs": [
    {
     "name": "stdout",
     "output_type": "stream",
     "text": [
      "accuracy score is 0.9444444444444444\n"
     ]
    }
   ],
   "source": [
    "Z1 = np.matmul(W1, InputData_test.T) + b1\n",
    "A1 = relu(Z1)\n",
    "Z2 = np.matmul(W2, A1) + b2\n",
    "\n",
    "predictions = np.argmax(Z2, axis=0)\n",
    "labels = np.argmax(y_test.T, axis=0)\n",
    "\n",
    "print(f'accuracy score is {accuracy_score(predictions, labels)}')\n",
    "#print(classification_report(predictions, labels))"
   ]
  },
  {
   "cell_type": "markdown",
   "metadata": {},
   "source": [
    "# Visualize the model that we built\n",
    "https://cs.stanford.edu/people/karpathy/convnetjs/demo/mnist.html\n",
    "\n",
    "\n",
    "    layer_defs.push({type:'input', out_sx:24, out_sy:24, out_depth:1});\n",
    "    layer_defs.push({type:'fc', num_neurons:50, activation: 'relu'});\n",
    "    layer_defs.push({type:'fc', num_neurons:10, activation: 'relu'});\n",
    "    layer_defs.push({type:'softmax', num_classes:10});"
   ]
  },
  {
   "cell_type": "markdown",
   "metadata": {},
   "source": [
    "# What kind of fine tuning can be applied?\n",
    "    No. of epochs\n",
    "    Batch size\n",
    "    Learning rate\n",
    "    Depth (number of layers)\n",
    "    No. of neurons in each layer\n",
    "    Dropout (similar to randomly selecting features in random forest)\n",
    "    Weight Initialization"
   ]
  },
  {
   "cell_type": "markdown",
   "metadata": {},
   "source": [
    "# What is keras?\n",
    "Keras is an API which provides high level constructs for building the Neural Networks. Keras is implemented by TensorFlow etc. "
   ]
  },
  {
   "cell_type": "code",
   "execution_count": 12,
   "metadata": {},
   "outputs": [],
   "source": [
    "from tensorflow.keras.models import Sequential\n",
    "from tensorflow.keras.layers import Activation, Dense\n",
    "from tensorflow.keras import optimizers\n",
    "from tensorflow.keras.layers import Flatten"
   ]
  },
  {
   "cell_type": "code",
   "execution_count": 13,
   "metadata": {},
   "outputs": [
    {
     "name": "stdout",
     "output_type": "stream",
     "text": [
      "WARNING:tensorflow:From C:\\Users\\ashis\\Anaconda3\\lib\\site-packages\\tensorflow_core\\python\\ops\\resource_variable_ops.py:1630: calling BaseResourceVariable.__init__ (from tensorflow.python.ops.resource_variable_ops) with constraint is deprecated and will be removed in a future version.\n",
      "Instructions for updating:\n",
      "If using Keras pass *_constraint arguments to layers.\n"
     ]
    }
   ],
   "source": [
    "# Explain the Keras framework and pipeline\n",
    "model = Sequential()\n",
    "model.add(Dense(50, input_shape = (64, )))\n",
    "model.add(Activation('relu')) #\n",
    "model.add(Dense(10))\n",
    "model.add(Activation('softmax'))"
   ]
  },
  {
   "cell_type": "code",
   "execution_count": 14,
   "metadata": {},
   "outputs": [],
   "source": [
    "sgd = optimizers.SGD(lr =learning_rate)\n",
    "model.compile(optimizer = sgd, loss = 'categorical_crossentropy', metrics = ['accuracy'])"
   ]
  },
  {
   "cell_type": "code",
   "execution_count": 15,
   "metadata": {},
   "outputs": [
    {
     "name": "stdout",
     "output_type": "stream",
     "text": [
      "Train on 1347 samples\n",
      "Epoch 1/10\n",
      "1347/1347 [==============================] - 1s 757us/sample - loss: 1.1260 - acc: 0.6971\n",
      "Epoch 2/10\n",
      "1347/1347 [==============================] - 1s 718us/sample - loss: 0.7076 - acc: 0.8248\n",
      "Epoch 3/10\n",
      "1347/1347 [==============================] - 1s 712us/sample - loss: 0.5009 - acc: 0.8790\n",
      "Epoch 4/10\n",
      "1347/1347 [==============================] - 1s 709us/sample - loss: 0.3767 - acc: 0.9087\n",
      "Epoch 5/10\n",
      "1347/1347 [==============================] - 1s 718us/sample - loss: 0.3859 - acc: 0.9050\n",
      "Epoch 6/10\n",
      "1347/1347 [==============================] - 1s 716us/sample - loss: 0.4120 - acc: 0.9161\n",
      "Epoch 7/10\n",
      "1347/1347 [==============================] - 1s 711us/sample - loss: 0.4022 - acc: 0.9109\n",
      "Epoch 8/10\n",
      "1347/1347 [==============================] - 1s 724us/sample - loss: 0.2367 - acc: 0.9406\n",
      "Epoch 9/10\n",
      "1347/1347 [==============================] - 1s 716us/sample - loss: 0.2133 - acc: 0.9510\n",
      "Epoch 10/10\n",
      "1347/1347 [==============================] - 1s 717us/sample - loss: 0.2244 - acc: 0.9503\n"
     ]
    }
   ],
   "source": [
    "history = model.fit(InputData_train, y_train, batch_size = 1, epochs = 10, verbose = 1)"
   ]
  },
  {
   "cell_type": "code",
   "execution_count": 16,
   "metadata": {},
   "outputs": [],
   "source": [
    "results = model.evaluate(InputData_test, y_test, verbose = 0)"
   ]
  },
  {
   "cell_type": "code",
   "execution_count": 17,
   "metadata": {},
   "outputs": [
    {
     "name": "stdout",
     "output_type": "stream",
     "text": [
      "Test accuracy:  0.9355556\n"
     ]
    }
   ],
   "source": [
    "print('Test accuracy: ', results[1])"
   ]
  },
  {
   "cell_type": "code",
   "execution_count": 18,
   "metadata": {},
   "outputs": [
    {
     "data": {
      "text/plain": [
       "[<tf.Variable 'dense/kernel:0' shape=(64, 50) dtype=float32>,\n",
       " <tf.Variable 'dense/bias:0' shape=(50,) dtype=float32>,\n",
       " <tf.Variable 'dense_1/kernel:0' shape=(50, 10) dtype=float32>,\n",
       " <tf.Variable 'dense_1/bias:0' shape=(10,) dtype=float32>]"
      ]
     },
     "execution_count": 18,
     "metadata": {},
     "output_type": "execute_result"
    }
   ],
   "source": [
    "model.trainable_weights"
   ]
  },
  {
   "cell_type": "code",
   "execution_count": 19,
   "metadata": {},
   "outputs": [
    {
     "name": "stdout",
     "output_type": "stream",
     "text": [
      "Total params: 3,760\n",
      "Trainable params: 3,760\n",
      "Non-trainable params: 0\n"
     ]
    },
    {
     "name": "stderr",
     "output_type": "stream",
     "text": [
      "Using TensorFlow backend.\n"
     ]
    }
   ],
   "source": [
    "from keras import backend as K\n",
    "\n",
    "trainable_count = int(\n",
    "    np.sum([K.count_params(p) for p in set(model.trainable_weights)]))\n",
    "non_trainable_count = int(\n",
    "    np.sum([K.count_params(p) for p in set(model.non_trainable_weights)]))\n",
    "\n",
    "print('Total params: {:,}'.format(trainable_count + non_trainable_count))\n",
    "print('Trainable params: {:,}'.format(trainable_count))\n",
    "print('Non-trainable params: {:,}'.format(non_trainable_count))"
   ]
  },
  {
   "cell_type": "code",
   "execution_count": null,
   "metadata": {},
   "outputs": [],
   "source": []
  }
 ],
 "metadata": {
  "kernelspec": {
   "display_name": "Python 3",
   "language": "python",
   "name": "python3"
  },
  "language_info": {
   "codemirror_mode": {
    "name": "ipython",
    "version": 3
   },
   "file_extension": ".py",
   "mimetype": "text/x-python",
   "name": "python",
   "nbconvert_exporter": "python",
   "pygments_lexer": "ipython3",
   "version": "3.7.3"
  }
 },
 "nbformat": 4,
 "nbformat_minor": 4
}
