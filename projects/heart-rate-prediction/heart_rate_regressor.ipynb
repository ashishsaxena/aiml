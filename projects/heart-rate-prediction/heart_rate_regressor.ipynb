{
  "nbformat": 4,
  "nbformat_minor": 0,
  "metadata": {
    "colab": {
      "name": "heart-rate-regressor.ipynb",
      "provenance": [],
      "collapsed_sections": [],
      "authorship_tag": "ABX9TyMrP7pjXVF8SDuIteLg0Kvc",
      "include_colab_link": true
    },
    "kernelspec": {
      "name": "python3",
      "display_name": "Python 3"
    }
  },
  "cells": [
    {
      "cell_type": "markdown",
      "metadata": {
        "id": "view-in-github",
        "colab_type": "text"
      },
      "source": [
        "<a href=\"https://colab.research.google.com/github/ashishsaxena/aiml/blob/master/projects/heart-rate-prediction/heart_rate_regressor.ipynb\" target=\"_parent\"><img src=\"https://colab.research.google.com/assets/colab-badge.svg\" alt=\"Open In Colab\"/></a>"
      ]
    },
    {
      "cell_type": "code",
      "metadata": {
        "colab": {
          "base_uri": "https://localhost:8080/"
        },
        "id": "T7KNTFbL-eV5",
        "outputId": "3f098d1f-7266-40b3-ed84-9ee1997aaea0"
      },
      "source": [
        "from google.colab import drive\n",
        "drive.mount('/content/drive')"
      ],
      "execution_count": null,
      "outputs": [
        {
          "output_type": "stream",
          "text": [
            "Mounted at /content/drive\n"
          ],
          "name": "stdout"
        }
      ]
    },
    {
      "cell_type": "code",
      "metadata": {
        "id": "2zL0hV8xArj5"
      },
      "source": [
        "import pandas as pd"
      ],
      "execution_count": 2,
      "outputs": []
    },
    {
      "cell_type": "code",
      "metadata": {
        "id": "UDB-4Y26BiEy"
      },
      "source": [
        "data_dir = '/content/drive/My Drive/Colab Notebooks/projects/heart-rate-prediction/data'"
      ],
      "execution_count": 9,
      "outputs": []
    },
    {
      "cell_type": "code",
      "metadata": {
        "colab": {
          "base_uri": "https://localhost:8080/",
          "height": 204
        },
        "id": "ojt0QwhOAtTl",
        "outputId": "fae0d696-ad1a-4caa-82d5-6617e3a242c8"
      },
      "source": [
        "fdf = pd.read_csv(f'{data_dir}/frequency_domain_features_train.csv')\n",
        "fdf.sample(5)"
      ],
      "execution_count": 13,
      "outputs": [
        {
          "output_type": "execute_result",
          "data": {
            "text/html": [
              "<div>\n",
              "<style scoped>\n",
              "    .dataframe tbody tr th:only-of-type {\n",
              "        vertical-align: middle;\n",
              "    }\n",
              "\n",
              "    .dataframe tbody tr th {\n",
              "        vertical-align: top;\n",
              "    }\n",
              "\n",
              "    .dataframe thead th {\n",
              "        text-align: right;\n",
              "    }\n",
              "</style>\n",
              "<table border=\"1\" class=\"dataframe\">\n",
              "  <thead>\n",
              "    <tr style=\"text-align: right;\">\n",
              "      <th></th>\n",
              "      <th>uuid</th>\n",
              "      <th>VLF</th>\n",
              "      <th>VLF_PCT</th>\n",
              "      <th>LF</th>\n",
              "      <th>LF_PCT</th>\n",
              "      <th>LF_NU</th>\n",
              "      <th>HF</th>\n",
              "      <th>HF_PCT</th>\n",
              "      <th>HF_NU</th>\n",
              "      <th>TP</th>\n",
              "      <th>LF_HF</th>\n",
              "      <th>HF_LF</th>\n",
              "    </tr>\n",
              "  </thead>\n",
              "  <tbody>\n",
              "    <tr>\n",
              "      <th>299892</th>\n",
              "      <td>15d1698e-28e8-46f9-ae66-2fac97a90a9a</td>\n",
              "      <td>1319.804636</td>\n",
              "      <td>76.694568</td>\n",
              "      <td>370.616633</td>\n",
              "      <td>21.536735</td>\n",
              "      <td>92.410794</td>\n",
              "      <td>30.436770</td>\n",
              "      <td>1.768697</td>\n",
              "      <td>7.589206</td>\n",
              "      <td>1720.858040</td>\n",
              "      <td>12.176608</td>\n",
              "      <td>0.082125</td>\n",
              "    </tr>\n",
              "    <tr>\n",
              "      <th>144987</th>\n",
              "      <td>0ceb4c1c-15bc-4149-a7bc-54a34490bd63</td>\n",
              "      <td>3322.850864</td>\n",
              "      <td>75.245567</td>\n",
              "      <td>1075.485824</td>\n",
              "      <td>24.354250</td>\n",
              "      <td>98.383389</td>\n",
              "      <td>17.672107</td>\n",
              "      <td>0.400183</td>\n",
              "      <td>1.616611</td>\n",
              "      <td>4416.008794</td>\n",
              "      <td>60.857816</td>\n",
              "      <td>0.016432</td>\n",
              "    </tr>\n",
              "    <tr>\n",
              "      <th>187552</th>\n",
              "      <td>437ee7f5-2394-428f-a412-72b7cc5f9ece</td>\n",
              "      <td>575.749493</td>\n",
              "      <td>35.204156</td>\n",
              "      <td>1023.337833</td>\n",
              "      <td>62.571909</td>\n",
              "      <td>96.567782</td>\n",
              "      <td>36.371534</td>\n",
              "      <td>2.223934</td>\n",
              "      <td>3.432218</td>\n",
              "      <td>1635.458859</td>\n",
              "      <td>28.135680</td>\n",
              "      <td>0.035542</td>\n",
              "    </tr>\n",
              "    <tr>\n",
              "      <th>235487</th>\n",
              "      <td>74232cc2-f16d-401d-b396-7646292861b6</td>\n",
              "      <td>432.677453</td>\n",
              "      <td>38.137230</td>\n",
              "      <td>605.234360</td>\n",
              "      <td>53.346810</td>\n",
              "      <td>86.234112</td>\n",
              "      <td>96.615926</td>\n",
              "      <td>8.515960</td>\n",
              "      <td>13.765888</td>\n",
              "      <td>1134.527739</td>\n",
              "      <td>6.264333</td>\n",
              "      <td>0.159634</td>\n",
              "    </tr>\n",
              "    <tr>\n",
              "      <th>324760</th>\n",
              "      <td>d7ed47af-6430-4775-ab06-54e60605f293</td>\n",
              "      <td>1502.823017</td>\n",
              "      <td>76.434989</td>\n",
              "      <td>452.937622</td>\n",
              "      <td>23.036833</td>\n",
              "      <td>97.758634</td>\n",
              "      <td>10.384751</td>\n",
              "      <td>0.528178</td>\n",
              "      <td>2.241366</td>\n",
              "      <td>1966.145391</td>\n",
              "      <td>43.615646</td>\n",
              "      <td>0.022928</td>\n",
              "    </tr>\n",
              "  </tbody>\n",
              "</table>\n",
              "</div>"
            ],
            "text/plain": [
              "                                        uuid          VLF  ...      LF_HF     HF_LF\n",
              "299892  15d1698e-28e8-46f9-ae66-2fac97a90a9a  1319.804636  ...  12.176608  0.082125\n",
              "144987  0ceb4c1c-15bc-4149-a7bc-54a34490bd63  3322.850864  ...  60.857816  0.016432\n",
              "187552  437ee7f5-2394-428f-a412-72b7cc5f9ece   575.749493  ...  28.135680  0.035542\n",
              "235487  74232cc2-f16d-401d-b396-7646292861b6   432.677453  ...   6.264333  0.159634\n",
              "324760  d7ed47af-6430-4775-ab06-54e60605f293  1502.823017  ...  43.615646  0.022928\n",
              "\n",
              "[5 rows x 12 columns]"
            ]
          },
          "metadata": {
            "tags": []
          },
          "execution_count": 13
        }
      ]
    },
    {
      "cell_type": "code",
      "metadata": {
        "colab": {
          "base_uri": "https://localhost:8080/",
          "height": 204
        },
        "id": "1KLV3NcmBHfE",
        "outputId": "156e56d6-1dbb-41aa-d5bd-b157f174d47a"
      },
      "source": [
        "hrf = pd.read_csv(f'{data_dir}/heart_rate_non_linear_features_train.csv')\n",
        "hrf.sample(5)"
      ],
      "execution_count": 14,
      "outputs": [
        {
          "output_type": "execute_result",
          "data": {
            "text/html": [
              "<div>\n",
              "<style scoped>\n",
              "    .dataframe tbody tr th:only-of-type {\n",
              "        vertical-align: middle;\n",
              "    }\n",
              "\n",
              "    .dataframe tbody tr th {\n",
              "        vertical-align: top;\n",
              "    }\n",
              "\n",
              "    .dataframe thead th {\n",
              "        text-align: right;\n",
              "    }\n",
              "</style>\n",
              "<table border=\"1\" class=\"dataframe\">\n",
              "  <thead>\n",
              "    <tr style=\"text-align: right;\">\n",
              "      <th></th>\n",
              "      <th>uuid</th>\n",
              "      <th>SD1</th>\n",
              "      <th>SD2</th>\n",
              "      <th>sampen</th>\n",
              "      <th>higuci</th>\n",
              "      <th>datasetId</th>\n",
              "      <th>condition</th>\n",
              "    </tr>\n",
              "  </thead>\n",
              "  <tbody>\n",
              "    <tr>\n",
              "      <th>274129</th>\n",
              "      <td>148d5d54-b35b-412b-bbcc-e31b4de8bd28</td>\n",
              "      <td>7.159436</td>\n",
              "      <td>73.581980</td>\n",
              "      <td>2.100949</td>\n",
              "      <td>1.229896</td>\n",
              "      <td>2</td>\n",
              "      <td>interruption</td>\n",
              "    </tr>\n",
              "    <tr>\n",
              "      <th>73303</th>\n",
              "      <td>9b3baf57-1146-4e42-8473-1f315a1f932f</td>\n",
              "      <td>7.099108</td>\n",
              "      <td>73.388177</td>\n",
              "      <td>2.096126</td>\n",
              "      <td>1.224488</td>\n",
              "      <td>2</td>\n",
              "      <td>interruption</td>\n",
              "    </tr>\n",
              "    <tr>\n",
              "      <th>83725</th>\n",
              "      <td>b6327452-ad61-4342-856e-33599dd9e68b</td>\n",
              "      <td>9.676978</td>\n",
              "      <td>523.562078</td>\n",
              "      <td>1.634408</td>\n",
              "      <td>1.119539</td>\n",
              "      <td>2</td>\n",
              "      <td>no stress</td>\n",
              "    </tr>\n",
              "    <tr>\n",
              "      <th>273148</th>\n",
              "      <td>369e06ca-6d05-4038-a646-8b575ed26ad2</td>\n",
              "      <td>9.760285</td>\n",
              "      <td>103.374955</td>\n",
              "      <td>2.131302</td>\n",
              "      <td>1.132695</td>\n",
              "      <td>2</td>\n",
              "      <td>no stress</td>\n",
              "    </tr>\n",
              "    <tr>\n",
              "      <th>34068</th>\n",
              "      <td>54ef02ba-2aff-4c74-824c-df132d57cb69</td>\n",
              "      <td>15.019433</td>\n",
              "      <td>113.203661</td>\n",
              "      <td>2.211793</td>\n",
              "      <td>1.192411</td>\n",
              "      <td>2</td>\n",
              "      <td>interruption</td>\n",
              "    </tr>\n",
              "  </tbody>\n",
              "</table>\n",
              "</div>"
            ],
            "text/plain": [
              "                                        uuid  ...     condition\n",
              "274129  148d5d54-b35b-412b-bbcc-e31b4de8bd28  ...  interruption\n",
              "73303   9b3baf57-1146-4e42-8473-1f315a1f932f  ...  interruption\n",
              "83725   b6327452-ad61-4342-856e-33599dd9e68b  ...     no stress\n",
              "273148  369e06ca-6d05-4038-a646-8b575ed26ad2  ...     no stress\n",
              "34068   54ef02ba-2aff-4c74-824c-df132d57cb69  ...  interruption\n",
              "\n",
              "[5 rows x 7 columns]"
            ]
          },
          "metadata": {
            "tags": []
          },
          "execution_count": 14
        }
      ]
    },
    {
      "cell_type": "code",
      "metadata": {
        "colab": {
          "base_uri": "https://localhost:8080/",
          "height": 479
        },
        "id": "4uV_IK0sBF8e",
        "outputId": "9ce50962-1bfc-4884-b15a-cb07bc30aa7a"
      },
      "source": [
        "tdf = pd.read_csv(f'{data_dir}/time_domain_features_train.csv')\n",
        "tdf.sample(5)"
      ],
      "execution_count": 15,
      "outputs": [
        {
          "output_type": "execute_result",
          "data": {
            "text/html": [
              "<div>\n",
              "<style scoped>\n",
              "    .dataframe tbody tr th:only-of-type {\n",
              "        vertical-align: middle;\n",
              "    }\n",
              "\n",
              "    .dataframe tbody tr th {\n",
              "        vertical-align: top;\n",
              "    }\n",
              "\n",
              "    .dataframe thead th {\n",
              "        text-align: right;\n",
              "    }\n",
              "</style>\n",
              "<table border=\"1\" class=\"dataframe\">\n",
              "  <thead>\n",
              "    <tr style=\"text-align: right;\">\n",
              "      <th></th>\n",
              "      <th>MEAN_RR</th>\n",
              "      <th>MEDIAN_RR</th>\n",
              "      <th>SDRR</th>\n",
              "      <th>RMSSD</th>\n",
              "      <th>SDSD</th>\n",
              "      <th>SDRR_RMSSD</th>\n",
              "      <th>HR</th>\n",
              "      <th>pNN25</th>\n",
              "      <th>pNN50</th>\n",
              "      <th>KURT</th>\n",
              "      <th>SKEW</th>\n",
              "      <th>MEAN_REL_RR</th>\n",
              "      <th>MEDIAN_REL_RR</th>\n",
              "      <th>SDRR_REL_RR</th>\n",
              "      <th>RMSSD_REL_RR</th>\n",
              "      <th>SDSD_REL_RR</th>\n",
              "      <th>SDRR_RMSSD_REL_RR</th>\n",
              "      <th>KURT_REL_RR</th>\n",
              "      <th>SKEW_REL_RR</th>\n",
              "      <th>uuid</th>\n",
              "    </tr>\n",
              "  </thead>\n",
              "  <tbody>\n",
              "    <tr>\n",
              "      <th>328072</th>\n",
              "      <td>822.040652</td>\n",
              "      <td>821.356950</td>\n",
              "      <td>56.739557</td>\n",
              "      <td>19.874926</td>\n",
              "      <td>19.874881</td>\n",
              "      <td>2.854831</td>\n",
              "      <td>73.344279</td>\n",
              "      <td>23.333333</td>\n",
              "      <td>0.400000</td>\n",
              "      <td>-0.326843</td>\n",
              "      <td>-0.128643</td>\n",
              "      <td>-0.000044</td>\n",
              "      <td>-0.002759</td>\n",
              "      <td>0.024175</td>\n",
              "      <td>0.013374</td>\n",
              "      <td>0.013374</td>\n",
              "      <td>1.807603</td>\n",
              "      <td>-0.326843</td>\n",
              "      <td>-0.128643</td>\n",
              "      <td>e0927aa6-85ca-44b7-8899-e5476adc2dd8</td>\n",
              "    </tr>\n",
              "    <tr>\n",
              "      <th>34579</th>\n",
              "      <td>732.374727</td>\n",
              "      <td>736.535125</td>\n",
              "      <td>60.867838</td>\n",
              "      <td>9.973630</td>\n",
              "      <td>9.973565</td>\n",
              "      <td>6.102877</td>\n",
              "      <td>82.515579</td>\n",
              "      <td>1.600000</td>\n",
              "      <td>0.000000</td>\n",
              "      <td>-0.138641</td>\n",
              "      <td>-0.270313</td>\n",
              "      <td>-0.000051</td>\n",
              "      <td>0.000012</td>\n",
              "      <td>0.013608</td>\n",
              "      <td>0.007454</td>\n",
              "      <td>0.007454</td>\n",
              "      <td>1.825554</td>\n",
              "      <td>-0.138641</td>\n",
              "      <td>-0.270313</td>\n",
              "      <td>2b15da22-7cf3-4e32-ae61-a84609141b1f</td>\n",
              "    </tr>\n",
              "    <tr>\n",
              "      <th>12913</th>\n",
              "      <td>789.792143</td>\n",
              "      <td>789.786310</td>\n",
              "      <td>51.677489</td>\n",
              "      <td>13.164734</td>\n",
              "      <td>13.164376</td>\n",
              "      <td>3.925449</td>\n",
              "      <td>76.299918</td>\n",
              "      <td>5.333333</td>\n",
              "      <td>0.000000</td>\n",
              "      <td>-0.308281</td>\n",
              "      <td>-0.078648</td>\n",
              "      <td>0.000100</td>\n",
              "      <td>-0.000816</td>\n",
              "      <td>0.016831</td>\n",
              "      <td>0.010365</td>\n",
              "      <td>0.010365</td>\n",
              "      <td>1.623765</td>\n",
              "      <td>-0.308281</td>\n",
              "      <td>-0.078648</td>\n",
              "      <td>096d1db2-dd1a-475e-96f0-099fcdf6f0f0</td>\n",
              "    </tr>\n",
              "    <tr>\n",
              "      <th>241736</th>\n",
              "      <td>914.091391</td>\n",
              "      <td>935.490420</td>\n",
              "      <td>100.470173</td>\n",
              "      <td>16.813309</td>\n",
              "      <td>16.812450</td>\n",
              "      <td>5.975634</td>\n",
              "      <td>66.516865</td>\n",
              "      <td>13.000000</td>\n",
              "      <td>0.733333</td>\n",
              "      <td>-0.388098</td>\n",
              "      <td>-0.640467</td>\n",
              "      <td>-0.000185</td>\n",
              "      <td>0.000164</td>\n",
              "      <td>0.018430</td>\n",
              "      <td>0.009428</td>\n",
              "      <td>0.009428</td>\n",
              "      <td>1.954872</td>\n",
              "      <td>-0.388098</td>\n",
              "      <td>-0.640467</td>\n",
              "      <td>e03b16f2-abc0-480d-a6fc-6dc72e505898</td>\n",
              "    </tr>\n",
              "    <tr>\n",
              "      <th>159361</th>\n",
              "      <td>934.975407</td>\n",
              "      <td>929.074655</td>\n",
              "      <td>63.349927</td>\n",
              "      <td>12.108439</td>\n",
              "      <td>12.108405</td>\n",
              "      <td>5.231882</td>\n",
              "      <td>64.462241</td>\n",
              "      <td>3.200000</td>\n",
              "      <td>0.000000</td>\n",
              "      <td>-0.046285</td>\n",
              "      <td>0.438672</td>\n",
              "      <td>0.000019</td>\n",
              "      <td>-0.000614</td>\n",
              "      <td>0.012935</td>\n",
              "      <td>0.006424</td>\n",
              "      <td>0.006424</td>\n",
              "      <td>2.013436</td>\n",
              "      <td>-0.046285</td>\n",
              "      <td>0.438672</td>\n",
              "      <td>582264d4-aab6-4bd3-a452-c4db18b9af4e</td>\n",
              "    </tr>\n",
              "  </tbody>\n",
              "</table>\n",
              "</div>"
            ],
            "text/plain": [
              "           MEAN_RR  ...                                  uuid\n",
              "328072  822.040652  ...  e0927aa6-85ca-44b7-8899-e5476adc2dd8\n",
              "34579   732.374727  ...  2b15da22-7cf3-4e32-ae61-a84609141b1f\n",
              "12913   789.792143  ...  096d1db2-dd1a-475e-96f0-099fcdf6f0f0\n",
              "241736  914.091391  ...  e03b16f2-abc0-480d-a6fc-6dc72e505898\n",
              "159361  934.975407  ...  582264d4-aab6-4bd3-a452-c4db18b9af4e\n",
              "\n",
              "[5 rows x 20 columns]"
            ]
          },
          "metadata": {
            "tags": []
          },
          "execution_count": 15
        }
      ]
    },
    {
      "cell_type": "code",
      "metadata": {
        "colab": {
          "base_uri": "https://localhost:8080/",
          "height": 204
        },
        "id": "5fVszx25A87q",
        "outputId": "98b5d52d-d6dc-4ace-cc04-20671f691f0d"
      },
      "source": [
        "sample_upload = pd.read_csv(f'{data_dir}/Hackathon sample submission.csv')\n",
        "sample_upload.sample(5)"
      ],
      "execution_count": 16,
      "outputs": [
        {
          "output_type": "execute_result",
          "data": {
            "text/html": [
              "<div>\n",
              "<style scoped>\n",
              "    .dataframe tbody tr th:only-of-type {\n",
              "        vertical-align: middle;\n",
              "    }\n",
              "\n",
              "    .dataframe tbody tr th {\n",
              "        vertical-align: top;\n",
              "    }\n",
              "\n",
              "    .dataframe thead th {\n",
              "        text-align: right;\n",
              "    }\n",
              "</style>\n",
              "<table border=\"1\" class=\"dataframe\">\n",
              "  <thead>\n",
              "    <tr style=\"text-align: right;\">\n",
              "      <th></th>\n",
              "      <th>uuid</th>\n",
              "      <th>HR</th>\n",
              "    </tr>\n",
              "  </thead>\n",
              "  <tbody>\n",
              "    <tr>\n",
              "      <th>27080</th>\n",
              "      <td>e54203d4-5681-4d96-8d83-9c8357ed0a8b</td>\n",
              "      <td>NaN</td>\n",
              "    </tr>\n",
              "    <tr>\n",
              "      <th>29799</th>\n",
              "      <td>47a18cfc-ba05-4a54-865d-a818cbc7c4e0</td>\n",
              "      <td>NaN</td>\n",
              "    </tr>\n",
              "    <tr>\n",
              "      <th>23020</th>\n",
              "      <td>3f24a173-170c-45c1-939b-3f6f548a1c6a</td>\n",
              "      <td>NaN</td>\n",
              "    </tr>\n",
              "    <tr>\n",
              "      <th>17136</th>\n",
              "      <td>465e45f9-b458-4471-bbec-259efae15357</td>\n",
              "      <td>NaN</td>\n",
              "    </tr>\n",
              "    <tr>\n",
              "      <th>3181</th>\n",
              "      <td>3f2b6514-5884-4082-90b6-12953c30e164</td>\n",
              "      <td>NaN</td>\n",
              "    </tr>\n",
              "  </tbody>\n",
              "</table>\n",
              "</div>"
            ],
            "text/plain": [
              "                                       uuid  HR\n",
              "27080  e54203d4-5681-4d96-8d83-9c8357ed0a8b NaN\n",
              "29799  47a18cfc-ba05-4a54-865d-a818cbc7c4e0 NaN\n",
              "23020  3f24a173-170c-45c1-939b-3f6f548a1c6a NaN\n",
              "17136  465e45f9-b458-4471-bbec-259efae15357 NaN\n",
              "3181   3f2b6514-5884-4082-90b6-12953c30e164 NaN"
            ]
          },
          "metadata": {
            "tags": []
          },
          "execution_count": 16
        }
      ]
    },
    {
      "cell_type": "code",
      "metadata": {
        "id": "Rv9J2u2p-yog"
      },
      "source": [
        ""
      ],
      "execution_count": null,
      "outputs": []
    }
  ]
}